{
 "cells": [
  {
   "cell_type": "markdown",
   "metadata": {},
   "source": [
    "### Note\n",
    "* Instructions have been included for each segment. You do not have to follow them exactly, but they are included to help you think through the steps."
   ]
  },
  {
   "cell_type": "code",
   "execution_count": null,
   "metadata": {
    "scrolled": true
   },
   "outputs": [],
   "source": [
    "# Dependencies and Setup\n",
    "import pandas as pd\n",
    "import numpy as np\n",
    "\n",
    "# File to Load (Remember to Change These)\n",
    "file_to_load = \"Resources/purchase_data.csv\"\n",
    "\n",
    "# Read Purchasing File and store into Pandas data frame\n",
    "purchase_df = pd.read_csv(file_to_load)\n"
   ]
  },
  {
   "cell_type": "markdown",
   "metadata": {},
   "source": [
    "## Player Count"
   ]
  },
  {
   "cell_type": "markdown",
   "metadata": {},
   "source": [
    "* Display the total number of players\n"
   ]
  },
  {
   "cell_type": "code",
   "execution_count": null,
   "metadata": {
    "scrolled": false
   },
   "outputs": [],
   "source": [
    "#TOTAL PLAYERS\n",
    "total_players_df = pd.DataFrame(purchase_df[\"SN\"].unique())\n",
    "total_players_df.columns = {\"Unique Players\"}\n",
    "total_players_df\n",
    "totalPlayers = len(total_players_df)\n",
    "totalPlayers"
   ]
  },
  {
   "cell_type": "code",
   "execution_count": null,
   "metadata": {},
   "outputs": [],
   "source": [
    "\n",
    "\n",
    "total_players = pd.DataFrame(total_players_df.count())\n",
    "total_players.columns = {\"Total Players\"}\n",
    "total_players.index = np.arange(0, len(total_players))\n",
    "total_players"
   ]
  },
  {
   "cell_type": "code",
   "execution_count": null,
   "metadata": {},
   "outputs": [],
   "source": []
  },
  {
   "cell_type": "code",
   "execution_count": null,
   "metadata": {},
   "outputs": [],
   "source": [
    "uniqueItemsTemp = pd.DataFrame(purchase_df[\"Item Name\"].unique())\n",
    "uniqueItemsTemp\n",
    "uniqueItemsTemp.columns = {\"Unique Items\"}\n",
    "uniqueItemsTemp"
   ]
  },
  {
   "cell_type": "markdown",
   "metadata": {},
   "source": [
    "## Purchasing Analysis (Total)"
   ]
  },
  {
   "cell_type": "code",
   "execution_count": null,
   "metadata": {},
   "outputs": [],
   "source": [
    "summary_df = pd.DataFrame()\n",
    "summary_df[\"Number of Unique Items\"] = uniqueItemsTemp.count()\n",
    "summary_df.index = np.arange(len(summary_df))\n",
    "summary_df"
   ]
  },
  {
   "cell_type": "markdown",
   "metadata": {},
   "source": [
    "* Run basic calculations to obtain number of unique items, average price, etc.\n",
    "\n",
    "\n",
    "* Create a summary data frame to hold the results\n",
    "\n",
    "\n",
    "* Optional: give the displayed data cleaner formatting\n",
    "\n",
    "\n",
    "* Display the summary data frame\n"
   ]
  },
  {
   "cell_type": "code",
   "execution_count": null,
   "metadata": {},
   "outputs": [],
   "source": [
    "#MEAN PRICE\n",
    "meanPrice = purchase_df[\"Price\"].mean()\n",
    "print(\"Mean Price\")\n",
    "\n",
    "summary_df[\"Average Price\"] = meanPrice"
   ]
  },
  {
   "cell_type": "code",
   "execution_count": null,
   "metadata": {},
   "outputs": [],
   "source": [
    "#Count of purchases, do not think this is accurate\n",
    "countOfPurchases = purchase_df[\"Purchase ID\"].count()\n",
    "print(\"Count of Purchases\")\n",
    "summary_df[\"Number of Purchases\"] = countOfPurchases"
   ]
  },
  {
   "cell_type": "code",
   "execution_count": null,
   "metadata": {},
   "outputs": [],
   "source": [
    "#Total Revenue\n",
    "revenue = purchase_df[\"Price\"].sum()\n",
    "print(\"Revenue\")\n",
    "summary_df[\"Total Revenue\"] = revenue\n",
    "summary_df[\"Total Revenue\"] = summary_df[\"Total Revenue\"].astype(float)"
   ]
  },
  {
   "cell_type": "code",
   "execution_count": null,
   "metadata": {},
   "outputs": [],
   "source": [
    "#CREATE AND PRINT DATA FRAME HERE\n",
    "summary_df[\"Average Price\"] = summary_df[\"Average Price\"].map(\"${:.2f}\".format)\n",
    "\n",
    "\n",
    "\n",
    "summary_df[\"Total Revenue\"] = summary_df[\"Total Revenue\"].map(\"${:.2f}\".format)\n",
    "\n",
    "\n",
    "summary_df"
   ]
  },
  {
   "cell_type": "code",
   "execution_count": null,
   "metadata": {
    "scrolled": true
   },
   "outputs": [],
   "source": []
  },
  {
   "cell_type": "markdown",
   "metadata": {},
   "source": [
    "## Gender Demographics"
   ]
  },
  {
   "cell_type": "markdown",
   "metadata": {},
   "source": [
    "* Percentage and Count of Male Players\n",
    "\n",
    "\n",
    "* Percentage and Count of Female Players\n",
    "\n",
    "\n",
    "* Percentage and Count of Other / Non-Disclosed\n",
    "\n",
    "\n"
   ]
  },
  {
   "cell_type": "code",
   "execution_count": null,
   "metadata": {},
   "outputs": [],
   "source": [
    "#Percentage and Count of Male Players\n",
    "gender_df = pd.DataFrame(purchase_df[[\"SN\", \"Gender\"]])\n",
    "#not sure how to get the count of those values\n",
    "gender_df\n"
   ]
  },
  {
   "cell_type": "code",
   "execution_count": null,
   "metadata": {},
   "outputs": [],
   "source": [
    "gender_uniques_df = gender_df.drop_duplicates()\n",
    "gender_uniques_df"
   ]
  },
  {
   "cell_type": "code",
   "execution_count": null,
   "metadata": {},
   "outputs": [],
   "source": [
    "display_uniques_df = pd.DataFrame(gender_uniques_df[\"Gender\"].value_counts())\n",
    "\n",
    "display_uniques_df\n",
    "\n"
   ]
  },
  {
   "cell_type": "code",
   "execution_count": null,
   "metadata": {
    "scrolled": false
   },
   "outputs": [],
   "source": [
    "display_uniques_df[\"Percent of Players\"] = (display_uniques_df[\"Gender\"] / totalPlayers) * 100\n",
    "display_uniques_df[\"Percent of Players\"] = display_uniques_df[\"Percent of Players\"].map(\"{:,.2f}%\".format)\n",
    "\n",
    "display_uniques_df"
   ]
  },
  {
   "cell_type": "code",
   "execution_count": null,
   "metadata": {},
   "outputs": [],
   "source": [
    "purchase_df.head()"
   ]
  },
  {
   "cell_type": "code",
   "execution_count": null,
   "metadata": {},
   "outputs": [],
   "source": [
    "new_df = pd.DataFrame(purchase_df[[\"SN\", \"Gender\", \"Price\"]])\n",
    "new_df"
   ]
  },
  {
   "cell_type": "code",
   "execution_count": null,
   "metadata": {},
   "outputs": [],
   "source": [
    "counts= pd.DataFrame(purchase_df[\"Gender\"].value_counts())\n",
    "counts\n",
    "counts = counts.rename(columns = {\"Gender\" : \"Purchase Count\"})\n",
    "counts"
   ]
  },
  {
   "cell_type": "code",
   "execution_count": null,
   "metadata": {},
   "outputs": [],
   "source": [
    "#male gender table\n",
    "columns = {\"SN\", \"Gender\", \"Price\"}\n",
    "\n",
    "malePurchasePrice = new_df.loc[new_df[\"Gender\"] == \"Male\", columns]\n",
    "\n",
    "malePurchasePrice"
   ]
  },
  {
   "cell_type": "code",
   "execution_count": null,
   "metadata": {},
   "outputs": [],
   "source": [
    "avgMalePrice = malePurchasePrice[\"Price\"].mean()\n",
    "round(avgMalePrice, 2)"
   ]
  },
  {
   "cell_type": "code",
   "execution_count": null,
   "metadata": {},
   "outputs": [],
   "source": [
    "#female gender table\n",
    "columns = {\"SN\", \"Gender\", \"Price\"}\n",
    "\n",
    "femalePurchasePrice = new_df.loc[new_df[\"Gender\"] == \"Female\", columns]\n",
    "\n",
    "femalePurchasePrice"
   ]
  },
  {
   "cell_type": "code",
   "execution_count": null,
   "metadata": {},
   "outputs": [],
   "source": [
    "avgFemalePrice = femalePurchasePrice[\"Price\"].mean()\n",
    "round(avgFemalePrice, 2)"
   ]
  },
  {
   "cell_type": "code",
   "execution_count": null,
   "metadata": {},
   "outputs": [],
   "source": [
    "#other gender table\n",
    "columns = {\"SN\", \"Gender\", \"Price\"}\n",
    "\n",
    "otherPurchasePrice = new_df.loc[new_df[\"Gender\"] == \"Other / Non-Disclosed\", columns]\n",
    "\n",
    "otherPurchasePrice"
   ]
  },
  {
   "cell_type": "code",
   "execution_count": null,
   "metadata": {},
   "outputs": [],
   "source": [
    "avgOtherPrice = otherPurchasePrice[\"Price\"].mean()\n",
    "round(avgOtherPrice, 2)"
   ]
  },
  {
   "cell_type": "code",
   "execution_count": null,
   "metadata": {},
   "outputs": [],
   "source": [
    "#sums\n",
    "sumOfMale = malePurchasePrice[\"Price\"].sum()\n",
    "sumOfMale"
   ]
  },
  {
   "cell_type": "code",
   "execution_count": null,
   "metadata": {},
   "outputs": [],
   "source": [
    "sumOfFemale = femalePurchasePrice[\"Price\"].sum()\n",
    "sumOfFemale"
   ]
  },
  {
   "cell_type": "code",
   "execution_count": null,
   "metadata": {},
   "outputs": [],
   "source": [
    "sumOfOther = otherPurchasePrice[\"Price\"].sum()\n",
    "sumOfOther"
   ]
  },
  {
   "cell_type": "code",
   "execution_count": null,
   "metadata": {
    "scrolled": false
   },
   "outputs": [],
   "source": [
    "male_summed_df = malePurchasePrice.groupby([\"SN\", \"Gender\"])[\"Price\"].sum()\n",
    "male_total_mean = male_summed_df.mean()"
   ]
  },
  {
   "cell_type": "code",
   "execution_count": null,
   "metadata": {},
   "outputs": [],
   "source": [
    "female_summed_df = femalePurchasePrice.groupby([\"SN\", \"Gender\"])[\"Price\"].sum()\n",
    "female_total_mean = female_summed_df.mean()\n",
    "female_total_mean"
   ]
  },
  {
   "cell_type": "code",
   "execution_count": null,
   "metadata": {},
   "outputs": [],
   "source": [
    "other_summed_df = otherPurchasePrice.groupby([\"SN\", \"Gender\"])[\"Price\"].sum()\n",
    "other_total_mean = other_summed_df.mean()\n",
    "other_total_mean"
   ]
  },
  {
   "cell_type": "code",
   "execution_count": null,
   "metadata": {},
   "outputs": [],
   "source": [
    "#creating Purchasing analysis table\n",
    "counts[\"Average Purchase Price\"] = [avgMalePrice, avgFemalePrice, avgOtherPrice]\n",
    "counts[\"Total Purchase Value\"] = [sumOfMale, sumOfFemale, sumOfOther]\n",
    "counts[\"Avg Total Purchase per Person\"] = [male_total_mean, female_total_mean, other_total_mean]\n",
    "\n",
    "counts"
   ]
  },
  {
   "cell_type": "code",
   "execution_count": null,
   "metadata": {},
   "outputs": [],
   "source": [
    "#formatting\n",
    "counts[\"Average Purchase Price\"] = counts[\"Average Purchase Price\"].map(\"${:.2f}\".format)\n",
    "counts[\"Total Purchase Value\"] = counts[\"Total Purchase Value\"].map(\"${:.2f}\".format)\n",
    "counts[\"Avg Total Purchase per Person\"] = counts[\"Avg Total Purchase per Person\"].map(\"${:.2f}\".format)\n",
    "\n"
   ]
  },
  {
   "cell_type": "markdown",
   "metadata": {},
   "source": [
    "\n",
    "## Purchasing Analysis (Gender)"
   ]
  },
  {
   "cell_type": "markdown",
   "metadata": {},
   "source": [
    "* Run basic calculations to obtain purchase count, avg. purchase price, avg. purchase total per person etc. by gender\n",
    "\n",
    "\n",
    "\n",
    "\n",
    "* Create a summary data frame to hold the results\n",
    "\n",
    "\n",
    "* Optional: give the displayed data cleaner formatting\n",
    "\n",
    "\n",
    "* Display the summary data frame"
   ]
  },
  {
   "cell_type": "code",
   "execution_count": null,
   "metadata": {},
   "outputs": [],
   "source": [
    "counts"
   ]
  },
  {
   "cell_type": "code",
   "execution_count": null,
   "metadata": {},
   "outputs": [],
   "source": []
  },
  {
   "cell_type": "code",
   "execution_count": null,
   "metadata": {},
   "outputs": [],
   "source": []
  },
  {
   "cell_type": "markdown",
   "metadata": {},
   "source": [
    "## Age Demographics"
   ]
  },
  {
   "cell_type": "markdown",
   "metadata": {},
   "source": [
    "* Establish bins for ages\n",
    "\n",
    "\n",
    "* Categorize the existing players using the age bins. Hint: use pd.cut()\n",
    "\n",
    "\n",
    "* Calculate the numbers and percentages by age group\n",
    "\n",
    "\n",
    "* Create a summary data frame to hold the results\n",
    "\n",
    "\n",
    "* Optional: round the percentage column to two decimal points\n",
    "\n",
    "\n",
    "* Display Age Demographics Table\n"
   ]
  },
  {
   "cell_type": "code",
   "execution_count": null,
   "metadata": {},
   "outputs": [],
   "source": [
    "purchase_df2 = purchase_df.copy()\n",
    "purchase_df3 = purchase_df2[[\"SN\", \"Age\"]]\n",
    "testing_df = purchase_df3.drop_duplicates()\n",
    "testing_df\n",
    "#AGE BINS\n",
    "bins = [0, 9, 14, 19, 24, 29, 34, 39, 200]\n",
    "group_names = [\"<10\", \"10-14\", \"15-19\", \"20-24\", \"25-29\", \"30-34\", \"35-39\", \"40+\"]\n",
    "\n",
    "testing_df[\"Age Bin\"] = pd.cut(testing_df[\"Age\"], bins, labels = group_names)\n",
    "testing_df\n",
    "\n",
    "testing_df = testing_df.groupby(\"Age Bin\")\n",
    "testing_df.count()\n",
    "\n",
    "age_sum_df = pd.DataFrame(testing_df.count())\n",
    "age_sum_df\n",
    "age_sum_df[\"SN\"] = (age_sum_df[\"SN\"] / totalPlayers) * 100\n",
    "age_sum_df\n",
    "\n",
    "#format\n",
    "formatTable = age_sum_df[[\"Age\", \"SN\"]]\n",
    "formatTable\n",
    "\n",
    "fixFormat = formatTable.rename(columns = {\"Age\" : \"Total Count\", \"SN\" : \"Percent of Players\"})\n",
    "fixFormat\n",
    "\n",
    "fixFormat[\"Percent of Players\"] = fixFormat[\"Percent of Players\"].map(\"{:,.2f}%\".format)\n",
    "fixFormat"
   ]
  },
  {
   "cell_type": "code",
   "execution_count": null,
   "metadata": {},
   "outputs": [],
   "source": [
    "price_testing = purchase_df.copy()\n",
    "groupby_df4 = price_testing.groupby(\"SN\")\n",
    "df = pd.DataFrame(groupby_df4[[\"SN\", \"Price\"]].sum())\n",
    "\n",
    "#price_testing - I was able to find the unique values for their purchases for \n",
    "#the Avg Total Purchase per Person, but I was unable to figure out how to put \n",
    "#it into the final df with the bins\n",
    "df\n"
   ]
  },
  {
   "cell_type": "code",
   "execution_count": null,
   "metadata": {},
   "outputs": [],
   "source": [
    "\n",
    "bins = [0, 9, 14, 19, 24, 29, 34, 39, 200]\n",
    "group_names = [\"<10\", \"10-14\", \"15-19\", \"20-24\", \"25-29\", \"30-34\", \"35-39\", \"40+\"]\n",
    "\n",
    "price_testing[\"Age Bin\"] = pd.cut(price_testing[\"Age\"], bins, labels = group_names)\n",
    "price_testing\n",
    "price_testing = price_testing.groupby(\"Age Bin\")\n",
    "price_testing.count()\n",
    "\n",
    "price_sum_df = pd.DataFrame(price_testing.count())\n",
    "price_sum_df\n",
    "\n",
    "formatPriceTable = price_sum_df[[\"Age\"]]\n",
    "formatPriceTable\n",
    "\n",
    "formatPriceTable[\"Average Purchase Price\"] = price_testing[\"Price\"].mean()\n",
    "formatPriceTable[\"Total Purchase Value\"] = price_testing[\"Price\"].sum()\n",
    "#formatPriceTable[\"Avg Total Purchase per Person\"] = price_testing[\"Price\"]\n",
    "\n",
    "#formatting\n",
    "formatPriceTable[\"Total Purchase Value\"] = formatPriceTable[\"Total Purchase Value\"].map(\"${:,.2f}\".format)\n",
    "formatPriceTable[\"Average Purchase Price\"] = formatPriceTable[\"Average Purchase Price\"].map(\"${:,.2f}\".format)"
   ]
  },
  {
   "cell_type": "markdown",
   "metadata": {},
   "source": [
    "## Purchasing Analysis (Age)"
   ]
  },
  {
   "cell_type": "markdown",
   "metadata": {},
   "source": [
    "* Bin the purchase_data data frame by age\n",
    "\n",
    "\n",
    "* Run basic calculations to obtain purchase count, avg. purchase price, avg. purchase total per person etc. in the table below\n",
    "\n",
    "\n",
    "* Create a summary data frame to hold the results\n",
    "\n",
    "\n",
    "* Optional: give the displayed data cleaner formatting\n",
    "\n",
    "\n",
    "* Display the summary data frame"
   ]
  },
  {
   "cell_type": "code",
   "execution_count": null,
   "metadata": {},
   "outputs": [],
   "source": [
    "formatPriceTable"
   ]
  },
  {
   "cell_type": "markdown",
   "metadata": {},
   "source": [
    "## Top Spenders"
   ]
  },
  {
   "cell_type": "markdown",
   "metadata": {},
   "source": [
    "* Run basic calculations to obtain the results in the table below\n",
    "\n",
    "\n",
    "* Create a summary data frame to hold the results\n",
    "\n",
    "\n",
    "* Sort the total purchase value column in descending order\n",
    "\n",
    "\n",
    "* Optional: give the displayed data cleaner formatting\n",
    "\n",
    "\n",
    "* Display a preview of the summary data frame\n",
    "\n"
   ]
  },
  {
   "cell_type": "code",
   "execution_count": null,
   "metadata": {},
   "outputs": [],
   "source": [
    "top_spenders = purchase_df[[\"SN\", \"Purchase ID\", \"Price\"]]\n",
    "top_spenders\n",
    "\n",
    "top_spenders2 = pd.DataFrame(top_spenders.groupby([\"SN\"])[\"Price\"].sum())\n",
    "top_spenders2"
   ]
  },
  {
   "cell_type": "code",
   "execution_count": null,
   "metadata": {
    "scrolled": false
   },
   "outputs": [],
   "source": [
    "avg_top = pd.DataFrame(top_spenders.groupby([\"SN\"])[\"Price\"].mean())\n",
    "\n",
    "top_spenders2[\"Avg Purchase Price\"] = avg_top\n",
    "top_spenders2\n",
    "\n",
    "top_spenders2[\"Purchase Count\"] = top_spenders.groupby([\"SN\"])[\"Price\"].count()\n",
    "\n",
    "sorted_spender = top_spenders2.sort_values([\"Price\"], ascending=[False])\n",
    "sorted_spender = sorted_spender.rename(columns = {\"Price\" : \"Total Purchase Value\"})\n",
    "\n",
    "sorted_spender[\"Total Purchase Value\"] = sorted_spender[\"Total Purchase Value\"].map(\"${:,.2f}\".format)\n",
    "sorted_spender[\"Avg Purchase Price\"] = sorted_spender[\"Avg Purchase Price\"].map(\"${:,.2f}\".format)\n",
    "\n",
    "sorted_spender"
   ]
  },
  {
   "cell_type": "code",
   "execution_count": null,
   "metadata": {},
   "outputs": [],
   "source": [
    "sorted_spender"
   ]
  },
  {
   "cell_type": "markdown",
   "metadata": {},
   "source": [
    "## Most Popular Items"
   ]
  },
  {
   "cell_type": "markdown",
   "metadata": {},
   "source": [
    "* Retrieve the Item ID, Item Name, and Item Price columns\n",
    "\n",
    "\n",
    "* Group by Item ID and Item Name. Perform calculations to obtain purchase count, average item price, and total purchase value\n",
    "\n",
    "\n",
    "* Create a summary data frame to hold the results\n",
    "\n",
    "\n",
    "* Sort the purchase count column in descending order\n",
    "\n",
    "\n",
    "* Optional: give the displayed data cleaner formatting\n",
    "\n",
    "\n",
    "* Display a preview of the summary data frame\n",
    "\n"
   ]
  },
  {
   "cell_type": "code",
   "execution_count": null,
   "metadata": {},
   "outputs": [],
   "source": [
    "item_purchase_df = purchase_df[[\"Item ID\", \"Item Name\", \"Price\"]]\n",
    "item_purchase_df\n",
    "\n",
    "no_dupe_item = item_purchase_df.drop_duplicates()\n",
    "\n",
    "no_dupe_item"
   ]
  },
  {
   "cell_type": "code",
   "execution_count": null,
   "metadata": {},
   "outputs": [],
   "source": [
    "purchaseCount = pd.DataFrame(purchase_df.groupby([\"Item ID\"])[\"Purchase ID\"].count())\n",
    "purchaseCount"
   ]
  },
  {
   "cell_type": "code",
   "execution_count": null,
   "metadata": {},
   "outputs": [],
   "source": [
    "purchaseCount2 = pd.DataFrame(item_purchase_df.groupby([\"Item ID\"])[\"Price\"].sum())\n",
    "purchaseCount2"
   ]
  },
  {
   "cell_type": "code",
   "execution_count": null,
   "metadata": {
    "scrolled": false
   },
   "outputs": [],
   "source": [
    "\n",
    "\n",
    "purchaseCount2[\"Purchase Count\"] = purchaseCount\n",
    "purchaseCount2\n",
    "\n",
    "merged_df = pd.merge(no_dupe_item, purchaseCount2, on = \"Item ID\")\n",
    "\n",
    "\n",
    "\n",
    "sorted_spender = sorted_spender.rename(columns = {\"Price\" : \"Total Purchase Value\"})\n",
    "merged_df = merged_df.rename(columns = {\"Price_x\" : \"Item Price\", \"Price_y\" : \"Total Purchase Price\"})\n",
    "\n",
    "merged_df[\"Item Price\"] = merged_df[\"Item Price\"].map(\"${:,.2f}\".format)\n",
    "merged_df[\"Total Purchase Price\"] = merged_df[\"Total Purchase Price\"].map(\"${:,.2f}\".format)\n",
    "\n",
    "merged_df = merged_df.sort_values([\"Purchase Count\"], ascending=[False])\n",
    "\n",
    "merged_df"
   ]
  },
  {
   "cell_type": "code",
   "execution_count": null,
   "metadata": {},
   "outputs": [],
   "source": []
  },
  {
   "cell_type": "markdown",
   "metadata": {},
   "source": [
    "## Most Profitable Items"
   ]
  },
  {
   "cell_type": "markdown",
   "metadata": {},
   "source": [
    "* Sort the above table by total purchase value in descending order\n",
    "\n",
    "\n",
    "* Optional: give the displayed data cleaner formatting\n",
    "\n",
    "\n",
    "* Display a preview of the data frame\n",
    "\n"
   ]
  },
  {
   "cell_type": "code",
   "execution_count": null,
   "metadata": {
    "scrolled": true
   },
   "outputs": [],
   "source": [
    "mostProfitable = merged_df.sort_values([\"Total Purchase Price\"], ascending =[False])\n",
    "\n",
    "mostProfitable"
   ]
  },
  {
   "cell_type": "code",
   "execution_count": null,
   "metadata": {},
   "outputs": [],
   "source": []
  },
  {
   "cell_type": "code",
   "execution_count": null,
   "metadata": {},
   "outputs": [],
   "source": []
  }
 ],
 "metadata": {
  "anaconda-cloud": {},
  "kernel_info": {
   "name": "python3"
  },
  "kernelspec": {
   "display_name": "Python 3",
   "language": "python",
   "name": "python3"
  },
  "language_info": {
   "codemirror_mode": {
    "name": "ipython",
    "version": 3
   },
   "file_extension": ".py",
   "mimetype": "text/x-python",
   "name": "python",
   "nbconvert_exporter": "python",
   "pygments_lexer": "ipython3",
   "version": "3.8.3"
  },
  "latex_envs": {
   "LaTeX_envs_menu_present": true,
   "autoclose": false,
   "autocomplete": true,
   "bibliofile": "biblio.bib",
   "cite_by": "apalike",
   "current_citInitial": 1,
   "eqLabelWithNumbers": true,
   "eqNumInitial": 1,
   "hotkeys": {
    "equation": "Ctrl-E",
    "itemize": "Ctrl-I"
   },
   "labels_anchors": false,
   "latex_user_defs": false,
   "report_style_numbering": false,
   "user_envs_cfg": false
  },
  "nteract": {
   "version": "0.2.0"
  }
 },
 "nbformat": 4,
 "nbformat_minor": 2
}
